{
 "cells": [
  {
   "cell_type": "markdown",
   "metadata": {},
   "source": [
    "# Movies Tonight Part 2: SQL DDL"
   ]
  },
  {
   "cell_type": "code",
   "execution_count": 1,
   "metadata": {},
   "outputs": [],
   "source": [
    "%reload_ext sql"
   ]
  },
  {
   "cell_type": "markdown",
   "metadata": {},
   "source": [
    "1. **Create / Reset a SQLite database.** \n",
    "    - Name the database `Movies.db`.\n",
    "    - Add `DROP TABLE IF EXISTS` queries make sure you have a blank database. \n",
    "    - Use SQL comments to ay what each line does"
   ]
  },
  {
   "cell_type": "code",
   "execution_count": 2,
   "metadata": {},
   "outputs": [
    {
     "data": {
      "text/plain": [
       "'Connected: @Movies.db'"
      ]
     },
     "execution_count": 2,
     "metadata": {},
     "output_type": "execute_result"
    }
   ],
   "source": [
    "%sql sqlite:///Movies.db"
   ]
  },
  {
   "cell_type": "markdown",
   "metadata": {},
   "source": [
    "2. **Use SQL Create Table commands to implement the table designs you created in Part 1.** \n",
    "    - Take care with your data types! (You do not need to populate them yet. That’s Part 3.) \n",
    "    - Use a surrogate key for the primary key of each table. The data type descriptor is `INTEGER PRIMARY KEY`.\n",
    "    - If you make a mistake, recreate the database from scratch using your code from step 1 above. "
   ]
  },
  {
   "cell_type": "code",
   "execution_count": 4,
   "metadata": {},
   "outputs": [
    {
     "name": "stdout",
     "output_type": "stream",
     "text": [
      " * sqlite:///Movies.db\n",
      "Done.\n",
      "Done.\n",
      "Done.\n",
      "Done.\n",
      "Done.\n",
      "Done.\n",
      "Done.\n",
      "Done.\n",
      "Done.\n",
      "Done.\n"
     ]
    },
    {
     "data": {
      "text/plain": [
       "[]"
      ]
     },
     "execution_count": 4,
     "metadata": {},
     "output_type": "execute_result"
    }
   ],
   "source": [
    "%%sql\n",
    "DROP TABLE IF EXISTS THEATERS;\n",
    "CREATE TABLE THEATERS (\n",
    "    THEATERID INTEGER PRIMARY KEY,\n",
    "    NAME TEXT NOT NULL,\n",
    "    LOCATION TEXT NOT NULL,\n",
    "    PHONE TEXT NOT NULL\n",
    ");\n",
    "DROP TABLE IF EXISTS MOVIES;\n",
    "CREATE TABLE MOVIES (\n",
    "    MOVIEID INTEGER PRIMARY KEY,\n",
    "    TITLE TEXT NOT NULL,\n",
    "    RATING TEXT\n",
    ");\n",
    "DROP TABLE IF EXISTS ARTISTS;\n",
    "CREATE TABLE ARTISTS (\n",
    "    ARTISTID INTEGER PRIMARY KEY,\n",
    "    NAME TEXT NOT NULL,\n",
    "    BIO TEXT,\n",
    "    HEADSHOT BLOB\n",
    ");\n",
    "DROP TABLE IF EXISTS SHOWS;\n",
    "CREATE TABLE SHOWS (\n",
    "    SHOWID INTEGER PRIMARY KEY,\n",
    "    SHOWTIME TEXT NOT NULL,\n",
    "    MOVIEID INTEGER NOT NULL,\n",
    "    THEATERID INTEGER NOT NULL,\n",
    "    FOREIGN KEY (MOVIEID) REFERENCES MOVIES (MOVIEID),\n",
    "    FOREIGN KEY (THEATERID) REFERENCES THEATER (THEATERID)\n",
    ");\n",
    "DROP TABLE IF EXISTS CREDITS;\n",
    "CREATE TABLE CREDITS (\n",
    "    CREDITID INTEGER PRIMARY KEY,\n",
    "    CCODE TEXT NOT NULL,\n",
    "    MOVIEID INTEGER NOT NULL,\n",
    "    ARTISTID INTEGER NOT NULL,\n",
    "    FOREIGN KEY (ARTISTID) REFERENCES ARTISTS (ARTISTID),\n",
    "    FOREIGN KEY (MOVIEID) REFERENCES MOVIES (MOVIEID)\n",
    ");"
   ]
  },
  {
   "cell_type": "markdown",
   "metadata": {},
   "source": [
    "3. **Use SQL ALTER TABLE statements to add the foreign key constraints from your ERD.**  \n",
    "Take care that each constraint has to have a unique name."
   ]
  },
  {
   "cell_type": "markdown",
   "metadata": {},
   "source": [
    "4. **Save, add, commit, and push your work to GitHub.**  \n",
    "Use the commit summary comment \"Completed Part 2\"."
   ]
  },
  {
   "cell_type": "code",
   "execution_count": null,
   "metadata": {},
   "outputs": [],
   "source": []
  }
 ],
 "metadata": {
  "kernelspec": {
   "display_name": "Python 3",
   "language": "python",
   "name": "python3"
  },
  "language_info": {
   "codemirror_mode": {
    "name": "ipython",
    "version": 3
   },
   "file_extension": ".py",
   "mimetype": "text/x-python",
   "name": "python",
   "nbconvert_exporter": "python",
   "pygments_lexer": "ipython3",
   "version": "3.6.7"
  }
 },
 "nbformat": 4,
 "nbformat_minor": 2
}
